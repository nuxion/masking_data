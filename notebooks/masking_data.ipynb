{
 "cells": [
  {
   "cell_type": "markdown",
   "id": "e8b0ffb7-5a41-48bc-b5e2-ca6c3bb8139a",
   "metadata": {
    "tags": []
   },
   "source": [
    "# Masking a column\n",
    "\n",
    "El objetivo de este notebook es mostrar la creacion y aplicacion de una funcion \n",
    "para enmascarar una columna en un dataset, con la particularidad de que ante el mismo dato se produzca siempre la misma mascara, o en este caso el mismo hash, permitiendo asi la relacion de observaciones entre diferentes datasets.\n",
    "\n",
    "Como funcion particular para este Hash se eligio [MD5](https://en.wikipedia.org/wiki/MD5). Este algoritmo es generalmente usado para verificar la integridad de un dato, nunca debe ser usado para encriptar passwords ni nada por el estilo. \n",
    "\n",
    "En este caso lo elegimos porque es un algoritmo que require poco recursos para ejecutarse, tiene una extension de 128 bits, este significa que si tenemos un dataset con N cantidad de observaciones, recien a la numero: 18446744073709551616 (2^64) tendremos una [probabilidad de 50% de colision](https://auth0.com/blog/birthday-attacks-collisions-and-password-strength/) \n",
    "\n",
    "Sin embargo la aplicacion de otras funciones hash como SHA128 pueden implentarse de igual forma a la demostrada aca. \n"
   ]
  },
  {
   "cell_type": "markdown",
   "id": "0b003f89-f7ab-4612-a702-01b97be70d56",
   "metadata": {},
   "source": [
    "Como una primera demostracion vemos como funcian de forma aislada el algoritmo. \n",
    "\n",
    "Algo a tener encuenta es que la funcion de hash requiere bytes en vez de string (por eso la \"b\" antes del string). Veremos unas celdas mas abajo como hacer un encoding de string a bytes. "
   ]
  },
  {
   "cell_type": "code",
   "execution_count": 4,
   "id": "0bb63bdd-3174-464d-a422-80478245ed06",
   "metadata": {},
   "outputs": [
    {
     "data": {
      "text/plain": [
       "'c893bad68927b457dbed39460e6afd62'"
      ]
     },
     "execution_count": 4,
     "metadata": {},
     "output_type": "execute_result"
    }
   ],
   "source": [
    "import hashlib\n",
    "\n",
    "result = hashlib.md5(b\"prueba\")\n",
    "result.hexdigest()"
   ]
  },
  {
   "cell_type": "markdown",
   "id": "eded3f4b-371b-4c14-a5f1-d270959ba287",
   "metadata": {},
   "source": [
    "Generamos un dataframe de prueba que solo tiene dos columnas: dni y age"
   ]
  },
  {
   "cell_type": "code",
   "execution_count": 6,
   "id": "52f91448-c7b0-4efb-9c54-9690db6ea42b",
   "metadata": {},
   "outputs": [
    {
     "data": {
      "text/html": [
       "<div>\n",
       "<style scoped>\n",
       "    .dataframe tbody tr th:only-of-type {\n",
       "        vertical-align: middle;\n",
       "    }\n",
       "\n",
       "    .dataframe tbody tr th {\n",
       "        vertical-align: top;\n",
       "    }\n",
       "\n",
       "    .dataframe thead th {\n",
       "        text-align: right;\n",
       "    }\n",
       "</style>\n",
       "<table border=\"1\" class=\"dataframe\">\n",
       "  <thead>\n",
       "    <tr style=\"text-align: right;\">\n",
       "      <th></th>\n",
       "      <th>dni</th>\n",
       "      <th>age</th>\n",
       "    </tr>\n",
       "  </thead>\n",
       "  <tbody>\n",
       "    <tr>\n",
       "      <th>0</th>\n",
       "      <td>44.555.555</td>\n",
       "      <td>5</td>\n",
       "    </tr>\n",
       "    <tr>\n",
       "      <th>1</th>\n",
       "      <td>33.444.555</td>\n",
       "      <td>30</td>\n",
       "    </tr>\n",
       "    <tr>\n",
       "      <th>2</th>\n",
       "      <td>21.333.444</td>\n",
       "      <td>20</td>\n",
       "    </tr>\n",
       "  </tbody>\n",
       "</table>\n",
       "</div>"
      ],
      "text/plain": [
       "          dni  age\n",
       "0  44.555.555    5\n",
       "1  33.444.555   30\n",
       "2  21.333.444   20"
      ]
     },
     "execution_count": 6,
     "metadata": {},
     "output_type": "execute_result"
    }
   ],
   "source": [
    "import pandas as pd\n",
    "data = {\n",
    "    \"dni\": [\"44.555.555\", \"33.444.555\", \"21.333.444\"], \"age\": [5, 30, 20]\n",
    "}\n",
    "df = pd.DataFrame(data=data)\n",
    "df.head()"
   ]
  },
  {
   "cell_type": "markdown",
   "id": "f1acc1bb-d001-47a3-8038-6e7417961bd3",
   "metadata": {},
   "source": [
    "Creamos la funcion que aplicaremos luego al dataset usando la funcion apply() de pandas\n",
    "\n",
    "Ademas agregamos la verificacion de que la aplicacion de la funcion de hash al mismo dato genera el mismo hash."
   ]
  },
  {
   "cell_type": "code",
   "execution_count": 14,
   "id": "6807f014-5f73-4d4e-8549-97dd70f90100",
   "metadata": {},
   "outputs": [
    {
     "data": {
      "text/plain": [
       "'28f17d4498afc74e8665cb7e98c421aa'"
      ]
     },
     "execution_count": 14,
     "metadata": {},
     "output_type": "execute_result"
    }
   ],
   "source": [
    "def hash_mask(data):\n",
    "    \"\"\" \n",
    "    Funcion que genera un HASH MD5 de un dato recibido\n",
    "    Como solo se puede aplicar encoding a un string primero convertimos\n",
    "    el dato recibido a string. \n",
    "    \"\"\"\n",
    "    data_str = str(data)\n",
    "    hashed = hashlib.md5(data.encode(\"utf-8\"))\n",
    "    return hashed.hexdigest()\n",
    "\n",
    "one_hash = hash_mask(data[\"dni\"][0])\n",
    "other_hash = hash_mask(data[\"dni\"][0])\n",
    "assert one_hash == other_hash\n",
    "one_hash"
   ]
  },
  {
   "cell_type": "markdown",
   "id": "010cd759-4aa6-4ffe-b8ea-c646f0c38fc3",
   "metadata": {},
   "source": [
    "Finalmente lo aplicamos al dataset:"
   ]
  },
  {
   "cell_type": "code",
   "execution_count": 8,
   "id": "534ff049-ec53-47d7-b68a-2fa7d9bd7162",
   "metadata": {},
   "outputs": [
    {
     "data": {
      "text/plain": [
       "0    28f17d4498afc74e8665cb7e98c421aa\n",
       "1    214d3ebe560722b9ae7f906bcc5c046a\n",
       "2    c605d20c10d4de0c3829d498366b6a2f\n",
       "Name: dni, dtype: object"
      ]
     },
     "execution_count": 8,
     "metadata": {},
     "output_type": "execute_result"
    }
   ],
   "source": [
    "df[\"dni\"].apply(dni_mask)"
   ]
  },
  {
   "cell_type": "code",
   "execution_count": 9,
   "id": "ae1b6696-603b-45b7-b5d1-f855b42517d5",
   "metadata": {},
   "outputs": [],
   "source": [
    "df[\"dni_mask\"] = df[\"dni\"].apply(dni_mask)"
   ]
  },
  {
   "cell_type": "code",
   "execution_count": 10,
   "id": "48d047eb-3b04-4af7-a6dd-7040836da5b5",
   "metadata": {},
   "outputs": [
    {
     "data": {
      "text/html": [
       "<div>\n",
       "<style scoped>\n",
       "    .dataframe tbody tr th:only-of-type {\n",
       "        vertical-align: middle;\n",
       "    }\n",
       "\n",
       "    .dataframe tbody tr th {\n",
       "        vertical-align: top;\n",
       "    }\n",
       "\n",
       "    .dataframe thead th {\n",
       "        text-align: right;\n",
       "    }\n",
       "</style>\n",
       "<table border=\"1\" class=\"dataframe\">\n",
       "  <thead>\n",
       "    <tr style=\"text-align: right;\">\n",
       "      <th></th>\n",
       "      <th>dni</th>\n",
       "      <th>age</th>\n",
       "      <th>dni_mask</th>\n",
       "    </tr>\n",
       "  </thead>\n",
       "  <tbody>\n",
       "    <tr>\n",
       "      <th>0</th>\n",
       "      <td>44.555.555</td>\n",
       "      <td>5</td>\n",
       "      <td>28f17d4498afc74e8665cb7e98c421aa</td>\n",
       "    </tr>\n",
       "    <tr>\n",
       "      <th>1</th>\n",
       "      <td>33.444.555</td>\n",
       "      <td>30</td>\n",
       "      <td>214d3ebe560722b9ae7f906bcc5c046a</td>\n",
       "    </tr>\n",
       "    <tr>\n",
       "      <th>2</th>\n",
       "      <td>21.333.444</td>\n",
       "      <td>20</td>\n",
       "      <td>c605d20c10d4de0c3829d498366b6a2f</td>\n",
       "    </tr>\n",
       "  </tbody>\n",
       "</table>\n",
       "</div>"
      ],
      "text/plain": [
       "          dni  age                          dni_mask\n",
       "0  44.555.555    5  28f17d4498afc74e8665cb7e98c421aa\n",
       "1  33.444.555   30  214d3ebe560722b9ae7f906bcc5c046a\n",
       "2  21.333.444   20  c605d20c10d4de0c3829d498366b6a2f"
      ]
     },
     "execution_count": 10,
     "metadata": {},
     "output_type": "execute_result"
    }
   ],
   "source": [
    "df.head()"
   ]
  }
 ],
 "metadata": {
  "kernelspec": {
   "display_name": "Python 3 (ipykernel)",
   "language": "python",
   "name": "python3"
  },
  "language_info": {
   "codemirror_mode": {
    "name": "ipython",
    "version": 3
   },
   "file_extension": ".py",
   "mimetype": "text/x-python",
   "name": "python",
   "nbconvert_exporter": "python",
   "pygments_lexer": "ipython3",
   "version": "3.8.10"
  }
 },
 "nbformat": 4,
 "nbformat_minor": 5
}
